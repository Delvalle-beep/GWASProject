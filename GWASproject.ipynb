{
 "cells": [
  {
   "cell_type": "code",
   "execution_count": 3,
   "id": "b6add285",
   "metadata": {},
   "outputs": [
    {
     "name": "stderr",
     "output_type": "stream",
     "text": [
      "usage: ipykernel_launcher.py [-h] [--input_path INPUT_PATH [INPUT_PATH ...]]\n",
      "                             [--output_path OUTPUT_PATH]\n",
      "ipykernel_launcher.py: error: unrecognized arguments: -f /home/olivev13/.local/share/jupyter/runtime/kernel-d4d654cb-01fd-4ee0-b6cc-5fc435817580.json\n"
     ]
    },
    {
     "ename": "SystemExit",
     "evalue": "2",
     "output_type": "error",
     "traceback": [
      "An exception has occurred, use %tb to see the full traceback.\n",
      "\u001b[0;31mSystemExit\u001b[0m\u001b[0;31m:\u001b[0m 2\n"
     ]
    }
   ],
   "source": [
    "from matplotlib.backends.backend_pdf import PdfPages\n",
    "import matplotlib.pyplot as plt\n",
    "import gwaslab as gl\n",
    "import pandas as pd\n",
    "import argparse\n",
    "import sys\n",
    "import os\n",
    "\n",
    "def process_paths(input_path,output_path):\n",
    "    #Code to process each of the paths\n",
    "    print('Processing the paths...')\n",
    "    return input_path, output_path\n",
    "\n",
    "def process_data(input_path,output_path):\n",
    "    i = 0\n",
    "    for input_path in input_path:\n",
    "        df=pd.read_csv(input_path,sep=\"\\t\",nrows=100000)\n",
    "        print('File data', input_path)\n",
    "        print(df.head())\n",
    "        \n",
    "        #loading the file in gwaslab\n",
    "        mysumstats = gl.Sumstats(\n",
    "             input_path,\n",
    "             fmt=\"plink\",\n",
    "             snpid=\"variant_id\",\n",
    "             rsid=None,\n",
    "             chrom=\"chromosome\",\n",
    "             pos=\"base_pair_location\",\n",
    "             ea=\"effect_allele\",\n",
    "             nea=\"other_allele\",\n",
    "             ref=None,\n",
    "             alt=None,\n",
    "             eaf=None,\n",
    "             neaf=None,\n",
    "             n=None,\n",
    "             beta=\"beta\",\n",
    "             se=\"standard_error\",\n",
    "             chisq=None,\n",
    "             z=None,\n",
    "             p=\"p_value\",\n",
    "             mlog10p=None,\n",
    "             info=None,\n",
    "             OR=\"odds_ratio\",\n",
    "             OR_95L=None,\n",
    "             OR_95U=None,\n",
    "             status=None,\n",
    "             other=[],\n",
    "             direction=None,\n",
    "             verbose=True,\n",
    "             build=\"99\"\n",
    "            )\n",
    "        \n",
    "        mysumstats.random_variants(n=100000,inplace=True)\n",
    "        mysumstats.basic_check()\n",
    "        mysumstats.infer_build()\n",
    "        mysumstats.lookup_status()\n",
    "        \n",
    "        file_name = output_path + 'Manhatan' + str(i) +'.pdf'\n",
    "        file_name2 = output_path + 'Regional' + str(i) +'.pdf'\n",
    "        file_name3 = output_path + 'Regional_other' + str(i) +'.pdf'\n",
    "        mysumstats.plot_mqq(save= file_name,saveargs={\"dpi\":400,\"facecolor\":\"white\"})\n",
    "        mysumstats.get_lead()\n",
    "        mysumstats.plot_mqq(save= file_name2,region=(7,156538803,157538803))\n",
    "        mysumstats.plot_mqq(save= file_name3, mode=\"r\", region=(7,156538803,157538803),region_grid=True, gtf_path=\"ensembl\")\n",
    "        i +=1\n",
    "    \n",
    "    \n",
    "#creating the parser\n",
    "parser = argparse.ArgumentParser(description='Process multiple input paths')\n",
    "\n",
    "#Adding the input path argument\n",
    "parser.add_argument('--input_path', type=str, nargs='+', help='input path')\n",
    "parser.add_argument('--output_path', type=str, help='output path')\n",
    "\n",
    "#parsing the argument\n",
    "args = parser.parse_args()\n",
    "\n",
    "#using the arguments \n",
    "input_path, output_path = process_paths(args.input_path, args.output_path)\n",
    "process_data(args.input_path,args.output_path)\n",
    "                    \n",
    "\n",
    "\n",
    "\n"
   ]
  },
  {
   "cell_type": "code",
   "execution_count": 18,
   "id": "e989de82",
   "metadata": {},
   "outputs": [],
   "source": []
  },
  {
   "cell_type": "code",
   "execution_count": null,
   "id": "3e504788",
   "metadata": {},
   "outputs": [],
   "source": []
  }
 ],
 "metadata": {
  "kernelspec": {
   "display_name": "Python 3 (ipykernel)",
   "language": "python",
   "name": "python3"
  },
  "language_info": {
   "codemirror_mode": {
    "name": "ipython",
    "version": 3
   },
   "file_extension": ".py",
   "mimetype": "text/x-python",
   "name": "python",
   "nbconvert_exporter": "python",
   "pygments_lexer": "ipython3",
   "version": "3.10.6"
  }
 },
 "nbformat": 4,
 "nbformat_minor": 5
}
